{
 "cells": [
  {
   "cell_type": "markdown",
   "metadata": {},
   "source": [
    "# Django Secret Key Generator\n",
    "\n",
    "This notebook generates a cryptographically secure secret key for Django applications.\n",
    "\n",
    "## Usage:\n",
    "1. Run the cell below to generate a new secret key\n",
    "2. Copy the generated key to your Django settings.py or .env file\n",
    "3. Keep this key secure and never commit it to version control\n",
    "\n",
    "## Security Notes:\n",
    "- Each key is 50 characters long\n",
    "- Uses Django's built-in secure random generator\n",
    "- Should be unique for each environment (dev, staging, prod)"
   ]
  },
  {
   "cell_type": "code",
   "execution_count": null,
   "metadata": {},
   "outputs": [],
   "source": [
    "# Django Secret Key Generator\n",
    "# This notebook generates a random Django secret key for use in Django applications\n",
    "\n",
    "from django.core.management.utils import get_random_secret_key\n",
    "\n",
    "# Generate a secure random secret key\n",
    "secret_key = get_random_secret_key()\n",
    "print(f\"Generated Secret Key: {secret_key}\")\n",
    "print(f\"Length: {len(secret_key)} characters\")\n",
    "print(f\"\\nYou can use this key in your Django settings.py or .env file:\")\n",
    "print(f\"SECRET_KEY = '{secret_key}'\")"
   ]
  },
  {
   "cell_type": "code",
   "execution_count": null,
   "metadata": {},
   "outputs": [],
   "source": [
    "# Generate multiple keys for different environments\n",
    "print(\"Multiple Secret Keys for Different Environments:\")\n",
    "print(\"=\" * 50)\n",
    "\n",
    "environments = ['development', 'staging', 'production']\n",
    "\n",
    "for env in environments:\n",
    "    key = get_random_secret_key()\n",
    "    print(f\"\\n{env.upper()}:\")\n",
    "    print(f\"SECRET_KEY = '{key}'\")"
   ]
  },
  {
   "cell_type": "code",
   "execution_count": null,
   "metadata": {},
   "outputs": [],
   "source": [
    "# Validate the generated key format\n",
    "test_key = get_random_secret_key()\n",
    "\n",
    "print(f\"Key validation:\")\n",
    "print(f\"Key: {test_key}\")\n",
    "print(f\"Length: {len(test_key)} characters\")\n",
    "print(f\"Is 50 characters: {'✓' if len(test_key) == 50 else '✗'}\")\n",
    "print(f\"Contains special chars: {'✓' if any(c in test_key for c in '!@#$%^&*()_+-=[]{}|;:,.<>?') else '✗'}\")\n",
    "print(f\"Contains letters: {'✓' if any(c.isalpha() for c in test_key) else '✗'}\")\n",
    "print(f\"Contains numbers: {'✓' if any(c.isdigit() for c in test_key) else '✗'}\")"
   ]
  }
 ],
 "metadata": {
  "kernelspec": {
   "display_name": "Python 3",
   "language": "python",
   "name": "python3"
  },
  "language_info": {
   "codemirror_mode": {
    "name": "ipython",
    "version": 3
   },
   "file_extension": ".py",
   "mimetype": "text/x-python",
   "name": "python",
   "nbconvert_exporter": "python",
   "pygments_lexer": "ipython3",
   "version": "3.11.0"
  }
 },
 "nbformat": 4,
 "nbformat_minor": 4
}
