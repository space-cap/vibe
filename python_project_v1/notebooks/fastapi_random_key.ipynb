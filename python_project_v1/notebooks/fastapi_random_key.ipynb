{
 "cells": [
  {
   "cell_type": "code",
   "execution_count": 1,
   "id": "8091d772",
   "metadata": {},
   "outputs": [
    {
     "data": {
      "text/plain": [
       "2"
      ]
     },
     "execution_count": 1,
     "metadata": {},
     "output_type": "execute_result"
    }
   ],
   "source": [
    "1+1"
   ]
  },
  {
   "cell_type": "code",
   "execution_count": 2,
   "id": "196a1019",
   "metadata": {},
   "outputs": [
    {
     "name": "stdout",
     "output_type": "stream",
     "text": [
      "EHCcTMeeCMEK4mJ-cyWkt_eQvnapwBHTHd09eDoBwXU\n"
     ]
    }
   ],
   "source": [
    "import secrets\n",
    "\n",
    "# 32바이트 랜덤 키 생성 (권장)\n",
    "secret_key = secrets.token_urlsafe(32)\n",
    "print(secret_key)\n",
    "# 예시: 'Drmhze6EPcv0fN_81Bj-nA'"
   ]
  },
  {
   "cell_type": "code",
   "execution_count": null,
   "id": "70e8fef3",
   "metadata": {},
   "outputs": [],
   "source": []
  }
 ],
 "metadata": {
  "kernelspec": {
   "display_name": "venv (3.13.5)",
   "language": "python",
   "name": "python3"
  },
  "language_info": {
   "codemirror_mode": {
    "name": "ipython",
    "version": 3
   },
   "file_extension": ".py",
   "mimetype": "text/x-python",
   "name": "python",
   "nbconvert_exporter": "python",
   "pygments_lexer": "ipython3",
   "version": "3.13.5"
  }
 },
 "nbformat": 4,
 "nbformat_minor": 5
}
